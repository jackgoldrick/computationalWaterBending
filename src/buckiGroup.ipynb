{
 "cells": [
  {
   "cell_type": "code",
   "execution_count": 103,
   "metadata": {},
   "outputs": [],
   "source": [
    "import torch as tc\n",
    "import p_power as pp\n",
    "import numpy as np\n",
    "import matplotlib.pyplot as plt\n"
   ]
  },
  {
   "cell_type": "code",
   "execution_count": 104,
   "metadata": {},
   "outputs": [
    {
     "name": "stdout",
     "output_type": "stream",
     "text": [
      "tensor([[ 8.,  4.,  2., -2., -2.],\n",
      "        [ 4.,  8.,  2., -2., -2.],\n",
      "        [ 2.,  2.,  6.,  0.,  0.],\n",
      "        [-2., -2.,  0., 10.,  6.],\n",
      "        [-2., -2.,  0.,  6., 10.]])\n"
     ]
    }
   ],
   "source": [
    "phi = tc.Tensor([[0, 0, 1, 1, 1], [-2, -2, -1, 1, 1], [2, 0, 0, 0, 0], [0, 2, 0, 0, 0], [0, 0, 2, 0, 0], [0, 0, 0, -2, -2], [0, 0, 0, 2, 0], [0, 0, 0, 0, 2]])\n",
    "phi_T = phi.mT\n",
    "phi_G = phi_T @ phi\n",
    "print(phi_G)"
   ]
  },
  {
   "cell_type": "code",
   "execution_count": 105,
   "metadata": {},
   "outputs": [
    {
     "name": "stdout",
     "output_type": "stream",
     "text": [
      "tensor([[ 0.1778],\n",
      "        [ 2.0471],\n",
      "        [ 0.1124],\n",
      "        [-0.5795],\n",
      "        [ 0.6901]])\n"
     ]
    }
   ],
   "source": [
    "x_targ = tc.Tensor([[-.5], [0], [1], [.5], [-.5]])\n",
    "x_start = tc.Tensor(tc.randn(5, 1))\n",
    "print(x_start)"
   ]
  },
  {
   "cell_type": "code",
   "execution_count": 106,
   "metadata": {},
   "outputs": [
    {
     "name": "stdout",
     "output_type": "stream",
     "text": [
      "tensor([[[4.3193]]])\n",
      "tensor([[[-0.3884],\n",
      "         [-0.3884],\n",
      "         [-0.1229],\n",
      "         [ 0.5845],\n",
      "         [ 0.5844]]])\n"
     ]
    }
   ],
   "source": [
    "phi_norm, vect = pp.p_power(phi, p=2, s_max=100, type=tc.float)\n",
    "print(phi_norm)\n",
    "print(vect)"
   ]
  },
  {
   "cell_type": "code",
   "execution_count": 107,
   "metadata": {},
   "outputs": [
    {
     "name": "stdout",
     "output_type": "stream",
     "text": [
      "tensor([[ 0.3882],\n",
      "        [ 0.3882],\n",
      "        [ 0.1227],\n",
      "        [-0.5846],\n",
      "        [-0.5846]])\n",
      "tensor([[1.]])\n"
     ]
    }
   ],
   "source": [
    "for i in range(100):\n",
    "    start_norm = tc.linalg.vector_norm(x_start, ord=2, keepdims=True)\n",
    "    x_start = (phi_G @ x_start) / start_norm\n",
    "    x_start = pp.dual(x_start, p=2, dim=0, type=tc.float)\n",
    "print(x_start) #+ 2.28892574923842)\n",
    "print(start_norm)\n",
    "# x_shift = x_start + 2.28892574923842\n",
    "# \n",
    "# print(x_shift[-1] / - x_shift[0])"
   ]
  },
  {
   "cell_type": "code",
   "execution_count": 108,
   "metadata": {},
   "outputs": [
    {
     "name": "stdout",
     "output_type": "stream",
     "text": [
      "tensor([[-1.0465],\n",
      "        [-2.8447],\n",
      "        [ 0.7764],\n",
      "        [ 0.7764],\n",
      "        [ 0.2454],\n",
      "        [ 2.3385],\n",
      "        [-1.1692],\n",
      "        [-1.1692]])\n",
      "tensor([[4.3193]])\n"
     ]
    }
   ],
   "source": [
    "res = phi @ x_start\n",
    "print(res)\n",
    "\n",
    "res_norm = tc.linalg.vector_norm(res, ord=2, keepdims=True)\n",
    "\n",
    "print(res_norm)"
   ]
  },
  {
   "cell_type": "code",
   "execution_count": 109,
   "metadata": {},
   "outputs": [
    {
     "name": "stdout",
     "output_type": "stream",
     "text": [
      "tensor([[ -4.2650],\n",
      "        [-11.5930],\n",
      "        [  3.1640],\n",
      "        [  3.1640],\n",
      "        [  1.0000],\n",
      "        [  9.5299],\n",
      "        [ -4.7650],\n",
      "        [ -4.7650]])\n"
     ]
    }
   ],
   "source": [
    "print( (res) / tc.min(tc.abs(res)))"
   ]
  },
  {
   "cell_type": "code",
   "execution_count": null,
   "metadata": {},
   "outputs": [],
   "source": []
  },
  {
   "cell_type": "code",
   "execution_count": null,
   "metadata": {},
   "outputs": [],
   "source": []
  }
 ],
 "metadata": {
  "kernelspec": {
   "display_name": "Python 3",
   "language": "python",
   "name": "python3"
  },
  "language_info": {
   "codemirror_mode": {
    "name": "ipython",
    "version": 3
   },
   "file_extension": ".py",
   "mimetype": "text/x-python",
   "name": "python",
   "nbconvert_exporter": "python",
   "pygments_lexer": "ipython3",
   "version": "3.12.4"
  }
 },
 "nbformat": 4,
 "nbformat_minor": 2
}
